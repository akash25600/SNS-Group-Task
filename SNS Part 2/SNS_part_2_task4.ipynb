{
  "nbformat": 4,
  "nbformat_minor": 0,
  "metadata": {
    "colab": {
      "provenance": []
    },
    "kernelspec": {
      "name": "python3",
      "display_name": "Python 3"
    },
    "language_info": {
      "name": "python"
    }
  },
  "cells": [
    {
      "cell_type": "code",
      "source": [
        "import pandas as pd\n",
        "import numpy as np\n",
        "\n",
        "# Creating a sample dataset\n",
        "data = {\n",
        "    'Name': ['Akash', 'Sivaji', 'Bala', 'Vikram', 'David', np.nan, 'Eve', 'Frank', 'Grace', 'Henry', 'Isla'],\n",
        "    'Age': [25,33, 30, 35, np.nan, 29, 40, 50, np.nan, 28, 30],\n",
        "    'Gender': ['F', 'M', 'M', np.nan, 'M', 'F', 'F', 'M', 'F', np.nan, 'M'],\n",
        "    'Income': [50000, 80000, 60000, 70000, 80000, 90000, np.nan, 110000, 120000, 130000, 140000],\n",
        "    'City': ['New York', 'Tamilnadu', 'Los Angeles', 'Chicago', 'Houston', 'New York', 'Los Angeles', np.nan, 'Houston', 'Chicago', 'New York']\n",
        "}\n",
        "\n",
        "df = pd.DataFrame(data)\n",
        "\n",
        "print(\"Original Dataset:\")\n",
        "print(df)\n"
      ],
      "metadata": {
        "id": "NlR10t5Lpdq4",
        "colab": {
          "base_uri": "https://localhost:8080/"
        },
        "outputId": "6f039712-b395-43c9-b6bd-968fc851e0b7"
      },
      "execution_count": 1,
      "outputs": [
        {
          "output_type": "stream",
          "name": "stdout",
          "text": [
            "Original Dataset:\n",
            "      Name   Age Gender    Income         City\n",
            "0    Akash  25.0      F   50000.0     New York\n",
            "1   Sivaji  33.0      M   80000.0    Tamilnadu\n",
            "2     Bala  30.0      M   60000.0  Los Angeles\n",
            "3   Vikram  35.0    NaN   70000.0      Chicago\n",
            "4    David   NaN      M   80000.0      Houston\n",
            "5      NaN  29.0      F   90000.0     New York\n",
            "6      Eve  40.0      F       NaN  Los Angeles\n",
            "7    Frank  50.0      M  110000.0          NaN\n",
            "8    Grace   NaN      F  120000.0      Houston\n",
            "9    Henry  28.0    NaN  130000.0      Chicago\n",
            "10    Isla  30.0      M  140000.0     New York\n"
          ]
        }
      ]
    },
    {
      "cell_type": "markdown",
      "source": [
        "Data Cleaning Steps\n",
        "1. Handling Missing Values\n",
        "First, we'll identify missing values in the dataset and decide how to handle them.\n"
      ],
      "metadata": {
        "id": "TyieQHpafdlm"
      }
    },
    {
      "cell_type": "code",
      "source": [
        "# Identify missing values\n",
        "missing_values = df.isnull().sum()\n",
        "print(\"\\nMissing Values in Each Column:\")\n",
        "print(missing_values)\n",
        "\n",
        "# Drop rows with missing 'Name' values (assuming 'Name' is a critical field)\n",
        "df_cleaned = df.dropna(subset=['Name'])\n",
        "\n",
        "# Fill missing 'Age' and 'Income' values with the mean of their respective columns\n",
        "df_cleaned['Age'].fillna(df_cleaned['Age'].mean(), inplace=True)\n",
        "df_cleaned['Income'].fillna(df_cleaned['Income'].mean(), inplace=True)\n",
        "\n",
        "# Fill missing 'Gender' values with the most common value (mode)\n",
        "df_cleaned['Gender'].fillna(df_cleaned['Gender'].mode()[0], inplace=True)\n",
        "\n",
        "# Fill missing 'City' values with 'Unknown'\n",
        "df_cleaned['City'].fillna('Unknown', inplace=True)\n",
        "\n",
        "print(\"\\nDataset After Handling Missing Values:\")\n",
        "print(df_cleaned)\n"
      ],
      "metadata": {
        "colab": {
          "base_uri": "https://localhost:8080/"
        },
        "id": "k4aneuE-fS8w",
        "outputId": "91f27b62-ceb7-4450-b261-da7845629da7"
      },
      "execution_count": 2,
      "outputs": [
        {
          "output_type": "stream",
          "name": "stdout",
          "text": [
            "\n",
            "Missing Values in Each Column:\n",
            "Name      1\n",
            "Age       2\n",
            "Gender    2\n",
            "Income    1\n",
            "City      1\n",
            "dtype: int64\n",
            "\n",
            "Dataset After Handling Missing Values:\n",
            "      Name     Age Gender         Income         City\n",
            "0    Akash  25.000      F   50000.000000     New York\n",
            "1   Sivaji  33.000      M   80000.000000    Tamilnadu\n",
            "2     Bala  30.000      M   60000.000000  Los Angeles\n",
            "3   Vikram  35.000      M   70000.000000      Chicago\n",
            "4    David  33.875      M   80000.000000      Houston\n",
            "6      Eve  40.000      F   93333.333333  Los Angeles\n",
            "7    Frank  50.000      M  110000.000000      Unknown\n",
            "8    Grace  33.875      F  120000.000000      Houston\n",
            "9    Henry  28.000      M  130000.000000      Chicago\n",
            "10    Isla  30.000      M  140000.000000     New York\n"
          ]
        },
        {
          "output_type": "stream",
          "name": "stderr",
          "text": [
            "<ipython-input-2-8fdb0c204755>:10: SettingWithCopyWarning: \n",
            "A value is trying to be set on a copy of a slice from a DataFrame\n",
            "\n",
            "See the caveats in the documentation: https://pandas.pydata.org/pandas-docs/stable/user_guide/indexing.html#returning-a-view-versus-a-copy\n",
            "  df_cleaned['Age'].fillna(df_cleaned['Age'].mean(), inplace=True)\n",
            "<ipython-input-2-8fdb0c204755>:11: SettingWithCopyWarning: \n",
            "A value is trying to be set on a copy of a slice from a DataFrame\n",
            "\n",
            "See the caveats in the documentation: https://pandas.pydata.org/pandas-docs/stable/user_guide/indexing.html#returning-a-view-versus-a-copy\n",
            "  df_cleaned['Income'].fillna(df_cleaned['Income'].mean(), inplace=True)\n",
            "<ipython-input-2-8fdb0c204755>:14: SettingWithCopyWarning: \n",
            "A value is trying to be set on a copy of a slice from a DataFrame\n",
            "\n",
            "See the caveats in the documentation: https://pandas.pydata.org/pandas-docs/stable/user_guide/indexing.html#returning-a-view-versus-a-copy\n",
            "  df_cleaned['Gender'].fillna(df_cleaned['Gender'].mode()[0], inplace=True)\n",
            "<ipython-input-2-8fdb0c204755>:17: SettingWithCopyWarning: \n",
            "A value is trying to be set on a copy of a slice from a DataFrame\n",
            "\n",
            "See the caveats in the documentation: https://pandas.pydata.org/pandas-docs/stable/user_guide/indexing.html#returning-a-view-versus-a-copy\n",
            "  df_cleaned['City'].fillna('Unknown', inplace=True)\n"
          ]
        }
      ]
    },
    {
      "cell_type": "markdown",
      "source": [
        "2. Handling Inconsistencies\n",
        "Next, we'll address any inconsistencies in the data. For example, standardizing categorical values or correcting typos."
      ],
      "metadata": {
        "id": "_J-H_ZMwfkhR"
      }
    },
    {
      "cell_type": "code",
      "source": [
        "# Example: Standardize 'Gender' column values to 'Male' and 'Female'\n",
        "df_cleaned['Gender'] = df_cleaned['Gender'].replace({'M': 'Male', 'F': 'Female'})\n",
        "\n",
        "# Remove any leading/trailing spaces in the 'City' column\n",
        "df_cleaned['City'] = df_cleaned['City'].str.strip()\n",
        "\n",
        "print(\"\\nDataset After Handling Inconsistencies:\")\n",
        "print(df_cleaned)\n"
      ],
      "metadata": {
        "colab": {
          "base_uri": "https://localhost:8080/"
        },
        "id": "xtm2K6UzfVgo",
        "outputId": "1308caf5-7564-49f9-86ea-44329c9586f5"
      },
      "execution_count": 3,
      "outputs": [
        {
          "output_type": "stream",
          "name": "stdout",
          "text": [
            "\n",
            "Dataset After Handling Inconsistencies:\n",
            "      Name     Age  Gender         Income         City\n",
            "0    Akash  25.000  Female   50000.000000     New York\n",
            "1   Sivaji  33.000    Male   80000.000000    Tamilnadu\n",
            "2     Bala  30.000    Male   60000.000000  Los Angeles\n",
            "3   Vikram  35.000    Male   70000.000000      Chicago\n",
            "4    David  33.875    Male   80000.000000      Houston\n",
            "6      Eve  40.000  Female   93333.333333  Los Angeles\n",
            "7    Frank  50.000    Male  110000.000000      Unknown\n",
            "8    Grace  33.875  Female  120000.000000      Houston\n",
            "9    Henry  28.000    Male  130000.000000      Chicago\n",
            "10    Isla  30.000    Male  140000.000000     New York\n"
          ]
        },
        {
          "output_type": "stream",
          "name": "stderr",
          "text": [
            "<ipython-input-3-235338d08dd7>:2: SettingWithCopyWarning: \n",
            "A value is trying to be set on a copy of a slice from a DataFrame.\n",
            "Try using .loc[row_indexer,col_indexer] = value instead\n",
            "\n",
            "See the caveats in the documentation: https://pandas.pydata.org/pandas-docs/stable/user_guide/indexing.html#returning-a-view-versus-a-copy\n",
            "  df_cleaned['Gender'] = df_cleaned['Gender'].replace({'M': 'Male', 'F': 'Female'})\n",
            "<ipython-input-3-235338d08dd7>:5: SettingWithCopyWarning: \n",
            "A value is trying to be set on a copy of a slice from a DataFrame.\n",
            "Try using .loc[row_indexer,col_indexer] = value instead\n",
            "\n",
            "See the caveats in the documentation: https://pandas.pydata.org/pandas-docs/stable/user_guide/indexing.html#returning-a-view-versus-a-copy\n",
            "  df_cleaned['City'] = df_cleaned['City'].str.strip()\n"
          ]
        }
      ]
    },
    {
      "cell_type": "markdown",
      "source": [
        "3. Removing Duplicates\n",
        "Finally, we'll check for and remove any duplicate rows."
      ],
      "metadata": {
        "id": "musKg6L6fsoR"
      }
    },
    {
      "cell_type": "code",
      "source": [
        "# Check for duplicates\n",
        "duplicates = df_cleaned.duplicated().sum()\n",
        "print(f\"\\nNumber of Duplicate Rows: {duplicates}\")\n",
        "\n",
        "# Remove duplicates\n",
        "df_cleaned = df_cleaned.drop_duplicates()\n",
        "\n",
        "print(\"\\nDataset After Removing Duplicates:\")\n",
        "print(df_cleaned)\n"
      ],
      "metadata": {
        "colab": {
          "base_uri": "https://localhost:8080/"
        },
        "id": "Yw1HwDDOfoBv",
        "outputId": "14561b42-df1a-4af7-8e42-42621cf6c1a6"
      },
      "execution_count": 4,
      "outputs": [
        {
          "output_type": "stream",
          "name": "stdout",
          "text": [
            "\n",
            "Number of Duplicate Rows: 0\n",
            "\n",
            "Dataset After Removing Duplicates:\n",
            "      Name     Age  Gender         Income         City\n",
            "0    Akash  25.000  Female   50000.000000     New York\n",
            "1   Sivaji  33.000    Male   80000.000000    Tamilnadu\n",
            "2     Bala  30.000    Male   60000.000000  Los Angeles\n",
            "3   Vikram  35.000    Male   70000.000000      Chicago\n",
            "4    David  33.875    Male   80000.000000      Houston\n",
            "6      Eve  40.000  Female   93333.333333  Los Angeles\n",
            "7    Frank  50.000    Male  110000.000000      Unknown\n",
            "8    Grace  33.875  Female  120000.000000      Houston\n",
            "9    Henry  28.000    Male  130000.000000      Chicago\n",
            "10    Isla  30.000    Male  140000.000000     New York\n"
          ]
        }
      ]
    },
    {
      "cell_type": "code",
      "source": [],
      "metadata": {
        "id": "M9AkTmY6fviD"
      },
      "execution_count": null,
      "outputs": []
    }
  ]
}